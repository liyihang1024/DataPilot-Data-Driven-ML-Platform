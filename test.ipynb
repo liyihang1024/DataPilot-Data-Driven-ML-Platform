{
 "cells": [
  {
   "cell_type": "code",
   "execution_count": 1,
   "metadata": {},
   "outputs": [],
   "source": [
    "import bcrypt\n",
    "import json\n",
    "\n",
    "password = \"admin\".encode(\"utf-8\")\n",
    "hashed_password = bcrypt.hashpw(password, bcrypt.gensalt())\n",
    "\n",
    "users = {\"admin\": hashed_password.decode(\"utf-8\")}\n",
    "\n",
    "with open(\"users.json\", \"w\") as file:\n",
    "    json.dump(users, file)\n"
   ]
  }
 ],
 "metadata": {
  "kernelspec": {
   "display_name": "pyside",
   "language": "python",
   "name": "python3"
  },
  "language_info": {
   "codemirror_mode": {
    "name": "ipython",
    "version": 3
   },
   "file_extension": ".py",
   "mimetype": "text/x-python",
   "name": "python",
   "nbconvert_exporter": "python",
   "pygments_lexer": "ipython3",
   "version": "3.9.18"
  }
 },
 "nbformat": 4,
 "nbformat_minor": 2
}
